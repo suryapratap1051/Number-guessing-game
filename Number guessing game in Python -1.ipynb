{
 "cells": [
  {
   "cell_type": "raw",
   "id": "e63b4266-9e1c-4f45-8c0d-584763347977",
   "metadata": {},
   "source": [
    "import random\n",
    "print(\"Hi welcome to the game, This is a number guessing game.\\nYou got 7 chances to guess \n",
    "the number. Let's start the game\")\n",
    "number_to_guess = random.randrange(100)\n",
    "chances = 7\n",
    "guess_counter = 0\n",
    "while guess_counter < chances:\n",
    " guess_counter += 1\n",
    " my_guess = int(input('Please Enter your Guess : '))\n",
    " if my_guess == number_to_guess:\n",
    " print(f'The number is {number_to_guess} and you found it right !! in the {guess_counter}\n",
    "attempt')\n",
    " break\n",
    " elif guess_counter >= chances and my_guess != number_to_guess:\n",
    " print(f'Oops sorry, The number is {number_to_guess} better luck next time')\n",
    " elif my_guess > number_to_guess:\n",
    " print('Your guess is higher ')\n",
    " elif my_guess < number_to_guess:\n",
    " print('Your guess is lesser')"
   ]
  },
  {
   "cell_type": "code",
   "execution_count": 3,
   "id": "a9d6510e-a147-47fb-9c26-48ce3370fcf2",
   "metadata": {},
   "outputs": [
    {
     "name": "stdout",
     "output_type": "stream",
     "text": [
      "Hi welcome to the game, This is a number guessing game.\n",
      "You got 7 chances to guess the number. Let's start the game\n"
     ]
    },
    {
     "name": "stdin",
     "output_type": "stream",
     "text": [
      "Please Enter your Guess:  6\n"
     ]
    },
    {
     "name": "stdout",
     "output_type": "stream",
     "text": [
      "Your guess is lesser.\n"
     ]
    },
    {
     "name": "stdin",
     "output_type": "stream",
     "text": [
      "Please Enter your Guess:  2\n"
     ]
    },
    {
     "name": "stdout",
     "output_type": "stream",
     "text": [
      "Your guess is lesser.\n"
     ]
    },
    {
     "name": "stdin",
     "output_type": "stream",
     "text": [
      "Please Enter your Guess:  3\n"
     ]
    },
    {
     "name": "stdout",
     "output_type": "stream",
     "text": [
      "Your guess is lesser.\n"
     ]
    },
    {
     "name": "stdin",
     "output_type": "stream",
     "text": [
      "Please Enter your Guess:  77\n"
     ]
    },
    {
     "name": "stdout",
     "output_type": "stream",
     "text": [
      "Your guess is higher.\n"
     ]
    },
    {
     "name": "stdin",
     "output_type": "stream",
     "text": [
      "Please Enter your Guess:  23\n"
     ]
    },
    {
     "name": "stdout",
     "output_type": "stream",
     "text": [
      "Your guess is lesser.\n"
     ]
    },
    {
     "name": "stdin",
     "output_type": "stream",
     "text": [
      "Please Enter your Guess:  33\n"
     ]
    },
    {
     "name": "stdout",
     "output_type": "stream",
     "text": [
      "Your guess is lesser.\n"
     ]
    },
    {
     "name": "stdin",
     "output_type": "stream",
     "text": [
      "Please Enter your Guess:  22\n"
     ]
    },
    {
     "name": "stdout",
     "output_type": "stream",
     "text": [
      "Oops sorry, The number is 52. Better luck next time.\n"
     ]
    }
   ],
   "source": [
    "import random\n",
    "\n",
    "print(\"Hi welcome to the game, This is a number guessing game.\\nYou got 7 chances to guess the number. Let's start the game\")\n",
    "\n",
    "number_to_guess = random.randrange(100)\n",
    "chances = 7\n",
    "guess_counter = 0\n",
    "\n",
    "while guess_counter < chances:\n",
    "    guess_counter += 1\n",
    "    my_guess = int(input('Please Enter your Guess: '))\n",
    "\n",
    "    if my_guess == number_to_guess:\n",
    "        print(f'The number is {number_to_guess} and you found it right!! in the {guess_counter} attempt')\n",
    "        break\n",
    "    elif guess_counter >= chances and my_guess != number_to_guess:\n",
    "        print(f'Oops sorry, The number is {number_to_guess}. Better luck next time.')\n",
    "    elif my_guess > number_to_guess:\n",
    "        print('Your guess is higher.')\n",
    "    elif my_guess < number_to_guess:\n",
    "        print('Your guess is lesser.')\n"
   ]
  },
  {
   "cell_type": "code",
   "execution_count": null,
   "id": "37fa017d-8d8c-4e5e-867b-0578010f5395",
   "metadata": {},
   "outputs": [],
   "source": []
  }
 ],
 "metadata": {
  "kernelspec": {
   "display_name": "Python 3 (ipykernel)",
   "language": "python",
   "name": "python3"
  },
  "language_info": {
   "codemirror_mode": {
    "name": "ipython",
    "version": 3
   },
   "file_extension": ".py",
   "mimetype": "text/x-python",
   "name": "python",
   "nbconvert_exporter": "python",
   "pygments_lexer": "ipython3",
   "version": "3.11.7"
  }
 },
 "nbformat": 4,
 "nbformat_minor": 5
}
